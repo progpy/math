{
 "cells": [
  {
   "cell_type": "markdown",
   "metadata": {},
   "source": [
    "# Подготовительная работа"
   ]
  },
  {
   "cell_type": "code",
   "execution_count": 1,
   "metadata": {
    "collapsed": true
   },
   "outputs": [],
   "source": [
    "%matplotlib inline\n",
    "\n",
    "import sympy as sp\n",
    "import matplotlib\n",
    "import numpy as np\n",
    "import matplotlib.pyplot as plt\n",
    "\n",
    "sp.init_printing()"
   ]
  },
  {
   "cell_type": "markdown",
   "metadata": {},
   "source": [
    "# Задача A"
   ]
  },
  {
   "cell_type": "markdown",
   "metadata": {},
   "source": [
    "Вычислить\n",
    "$$\n",
    "\\lim\\limits_{n \\rightarrow \\infty} \\left| \\frac{1}{n} - \\frac{2}{n} + \\frac{3}{n} + \\ldots + \\frac{(-1)^{n-1}n}{n}\\right|\n",
    "$$"
   ]
  },
  {
   "cell_type": "code",
   "execution_count": 2,
   "metadata": {
    "collapsed": true
   },
   "outputs": [],
   "source": [
    "def f(x):\n",
    "    res = 0\n",
    "    for n in np.arange(1, x + 1):\n",
    "        res += (-1)**(n-1) * n / x\n",
    "    return abs(res)"
   ]
  },
  {
   "cell_type": "code",
   "execution_count": 3,
   "metadata": {},
   "outputs": [
    {
     "data": {
      "text/plain": [
       "mpf('0.5')"
      ]
     },
     "execution_count": 3,
     "metadata": {},
     "output_type": "execute_result"
    }
   ],
   "source": [
    "sp.mpmath.limit(f, sp.mpmath.inf)"
   ]
  },
  {
   "cell_type": "code",
   "execution_count": 4,
   "metadata": {},
   "outputs": [
    {
     "data": {
      "image/png": "[encoded data removed]",
      "text/plain": [
       "<matplotlib.figure.Figure at 0x10ed3aac8>"
      ]
     },
     "metadata": {},
     "output_type": "display_data"
    }
   ],
   "source": [
    "ns = np.arange(1, 100)\n",
    "plt.plot(ns, list(map(f, ns)));"
   ]
  },
  {
   "cell_type": "markdown",
   "metadata": {},
   "source": [
    "# Задача B"
   ]
  },
  {
   "cell_type": "markdown",
   "metadata": {},
   "source": [
    "Вычислить\n",
    "$$\n",
    "\\lim\\limits_{x \\rightarrow 3} \\frac{\\sqrt{x + 6} - \\sqrt{10x - 21}}{5x - 15}\n",
    "$$"
   ]
  },
  {
   "cell_type": "code",
   "execution_count": 5,
   "metadata": {
    "collapsed": true
   },
   "outputs": [],
   "source": [
    "def numerator(x):\n",
    "    return (x + 6)**0.5 - (10 * x - 21)**0.5\n",
    "\n",
    "def denominator(x):\n",
    "    return 5 * x - 15\n",
    "\n",
    "def f(x):\n",
    "    return numerator(x) / denominator(x)"
   ]
  },
  {
   "cell_type": "code",
   "execution_count": 6,
   "metadata": {},
   "outputs": [
    {
     "name": "stderr",
     "output_type": "stream",
     "text": [
      "/opt/local/Library/Frameworks/Python.framework/Versions/3.4/lib/python3.4/site-packages/ipykernel/__main__.py:2: RuntimeWarning: invalid value encountered in double_scalars\n",
      "  from ipykernel import kernelapp as app\n"
     ]
    },
    {
     "data": {
      "image/png": "[encoded data removed]",
      "text/plain": [
       "<matplotlib.figure.Figure at 0x10edeeb70>"
      ]
     },
     "metadata": {},
     "output_type": "display_data"
    }
   ],
   "source": [
    "xs = np.arange(2, 4, 0.001)\n",
    "plt.plot(xs, list(map(f, xs)))\n",
    "plt.grid(True);"
   ]
  },
  {
   "cell_type": "code",
   "execution_count": 7,
   "metadata": {},
   "outputs": [
    {
     "data": {
      "text/plain": [
       "mpf('-0.29999999999999999')"
      ]
     },
     "execution_count": 7,
     "metadata": {},
     "output_type": "execute_result"
    }
   ],
   "source": [
    "sp.mpmath.limit(f, 3)"
   ]
  },
  {
   "cell_type": "code",
   "execution_count": 8,
   "metadata": {},
   "outputs": [
    {
     "data": {
      "image/png": "[encoded data removed]",
      "text/latex": [
       "$$\\frac{0.1}{\\left(x + 6\\right)^{0.5}} - \\frac{1.0}{\\left(10 x - 21\\right)^{0.5}}$$"
      ],
      "text/plain": [
       "           -0.5                     -0.5\n",
       "0.1⋅(x + 6)     - - -1.0⋅(10⋅x - 21)    "
      ]
     },
     "execution_count": 8,
     "metadata": {},
     "output_type": "execute_result"
    }
   ],
   "source": [
    "x = sp.var('x')\n",
    "hello_lopital = sp.diff(numerator(x), x) / sp.diff(denominator(x), x)\n",
    "hello_lopital"
   ]
  },
  {
   "cell_type": "code",
   "execution_count": 9,
   "metadata": {},
   "outputs": [
    {
     "data": {
      "image/png": "[encoded data removed]",
      "text/latex": [
       "$$- \\frac{0.9}{9^{0.5}}$$"
      ],
      "text/plain": [
       "      -0.5\n",
       "-0.9⋅9    "
      ]
     },
     "execution_count": 9,
     "metadata": {},
     "output_type": "execute_result"
    }
   ],
   "source": [
    "hello_lopital.subs({'x':3})"
   ]
  },
  {
   "cell_type": "code",
   "execution_count": 10,
   "metadata": {},
   "outputs": [
    {
     "data": {
      "image/png": "[encoded data removed]",
      "text/latex": [
       "$$- \\frac{0.9}{3^{1.0}}$$"
      ],
      "text/plain": [
       "      -1.0\n",
       "-0.9⋅3    "
      ]
     },
     "execution_count": 10,
     "metadata": {},
     "output_type": "execute_result"
    }
   ],
   "source": [
    "sp.simplify(hello_lopital.subs({'x':3}))"
   ]
  },
  {
   "cell_type": "code",
   "execution_count": 11,
   "metadata": {},
   "outputs": [
    {
     "data": {
      "image/png": "[encoded data removed]",
      "text/latex": [
       "$$-0.3$$"
      ],
      "text/plain": [
       "-0.300000000000000"
      ]
     },
     "execution_count": 11,
     "metadata": {},
     "output_type": "execute_result"
    }
   ],
   "source": [
    "sp.N(hello_lopital.subs({'x':3}))"
   ]
  },
  {
   "cell_type": "markdown",
   "metadata": {},
   "source": [
    "# Задача C"
   ]
  },
  {
   "cell_type": "markdown",
   "metadata": {},
   "source": [
    "Вычислите определенный интеграл\n",
    "$$\n",
    "\\int\\limits_{1}^{e^2} \\frac{\\ln^2x}{\\sqrt{x}} dx\n",
    "$$"
   ]
  },
  {
   "cell_type": "code",
   "execution_count": 12,
   "metadata": {},
   "outputs": [
    {
     "data": {
      "image/png": "[encoded data removed]",
      "text/latex": [
       "$$\\begin{cases} 2 \\sqrt{x} \\log^{2}{\\left (x \\right )} - 8 \\sqrt{x} \\log{\\left (x \\right )} + 16 \\sqrt{x} & \\text{for}\\: \\left\\lvert{x}\\right\\rvert < 1 \\\\2 \\sqrt{x} \\log^{2}{\\left (\\frac{1}{x} \\right )} + 8 \\sqrt{x} \\log{\\left (\\frac{1}{x} \\right )} + 16 \\sqrt{x} & \\text{for}\\: \\left\\lvert{\\frac{1}{x}}\\right\\rvert < 1 \\\\2 {G_{4, 4}^{3, 1}\\left(\\begin{matrix} 1 & \\frac{3}{2}, \\frac{3}{2}, \\frac{3}{2} \\\\\\frac{1}{2}, \\frac{1}{2}, \\frac{1}{2} & 0 \\end{matrix} \\middle| {x} \\right)} + 2 {G_{4, 4}^{0, 4}\\left(\\begin{matrix} \\frac{3}{2}, \\frac{3}{2}, \\frac{3}{2}, 1 &  \\\\ & \\frac{1}{2}, \\frac{1}{2}, \\frac{1}{2}, 0 \\end{matrix} \\middle| {x} \\right)} & \\text{otherwise} \\end{cases}$$"
      ],
      "text/plain": [
       "⎧                               ___    2          ___               ___       \n",
       "⎪                           2⋅╲╱ x ⋅log (x) - 8⋅╲╱ x ⋅log(x) + 16⋅╲╱ x        \n",
       "⎪                                                                             \n",
       "⎪                               ___    2⎛1⎞       ___    ⎛1⎞        ___       \n",
       "⎪                           2⋅╲╱ x ⋅log ⎜─⎟ + 8⋅╲╱ x ⋅log⎜─⎟ + 16⋅╲╱ x        \n",
       "⎨                                       ⎝x⎠              ⎝x⎠                  \n",
       "⎪                                                                             \n",
       "⎪  ╭─╮3, 1 ⎛      1        3/2, 3/2, 3/2 │  ⎞     ╭─╮0, 4 ⎛3/2, 3/2, 3/2, 1   \n",
       "⎪2⋅│╶┐     ⎜                             │ x⎟ + 2⋅│╶┐     ⎜                   \n",
       "⎪  ╰─╯4, 4 ⎝1/2, 1/2, 1/2        0       │  ⎠     ╰─╯4, 4 ⎝                  1\n",
       "⎩                                                                             \n",
       "\n",
       "                                 \n",
       "                      for │x│ < 1\n",
       "                                 \n",
       "                          │1│    \n",
       "                      for │─│ < 1\n",
       "                          │x│    \n",
       "                                 \n",
       "                │  ⎞             \n",
       "                │ x⎟   otherwise \n",
       "/2, 1/2, 1/2, 0 │  ⎠             \n",
       "                                 "
      ]
     },
     "execution_count": 12,
     "metadata": {},
     "output_type": "execute_result"
    }
   ],
   "source": [
    "x = sp.var('x')\n",
    "I = sp.integrate(sp.log(x)**2 / sp.sqrt(x), x)\n",
    "I"
   ]
  },
  {
   "cell_type": "code",
   "execution_count": 13,
   "metadata": {},
   "outputs": [
    {
     "data": {
      "image/png": "[encoded data removed]",
      "text/latex": [
       "$$-16.0 + 8 e$$"
      ],
      "text/plain": [
       "-16.0 + 8⋅ℯ"
      ]
     },
     "execution_count": 13,
     "metadata": {},
     "output_type": "execute_result"
    }
   ],
   "source": [
    "I.subs({'x': sp.E**2}) - I.subs({'x':1.000001}) # Трудное место, 1 не вычслится, но подумаем о непрерывности..."
   ]
  },
  {
   "cell_type": "markdown",
   "metadata": {},
   "source": [
    "# Задача D"
   ]
  },
  {
   "cell_type": "markdown",
   "metadata": {},
   "source": [
    "Найдите собственный вектор матрицы, соответствующий ее максимальному собственному значению. В ответ запишите любой из подходящих векторов\n",
    "$$\n",
    "\\begin{pmatrix}\n",
    "    2 & -5 & -8\\\\\n",
    "    -8 & -6 & -2\\\\\n",
    "    4 & 3 & 1\n",
    "\\end{pmatrix}\n",
    "$$"
   ]
  },
  {
   "cell_type": "code",
   "execution_count": 14,
   "metadata": {},
   "outputs": [
    {
     "data": {
      "image/png": "[encoded data removed]",
      "text/latex": [
       "$$\\left [ \\left ( -6, \\quad 1, \\quad \\left [ \\left[\\begin{matrix}- \\frac{1}{4}\\\\-2\\\\1\\end{matrix}\\right]\\right ]\\right ), \\quad \\left ( 0, \\quad 1, \\quad \\left [ \\left[\\begin{matrix}\\frac{19}{26}\\\\- \\frac{17}{13}\\\\1\\end{matrix}\\right]\\right ]\\right ), \\quad \\left ( 3, \\quad 1, \\quad \\left [ \\left[\\begin{matrix}2\\\\-2\\\\1\\end{matrix}\\right]\\right ]\\right )\\right ]$$"
      ],
      "text/plain": [
       "⎡                   ⎛      ⎡⎡ 19 ⎤⎤⎞                ⎤\n",
       "⎢⎛-6, 1, ⎡⎡-1/4⎤⎤⎞, ⎜0, 1, ⎢⎢ ── ⎥⎥⎟, ⎛3, 1, ⎡⎡2 ⎤⎤⎞⎥\n",
       "⎢⎜       ⎢⎢    ⎥⎥⎟  ⎜      ⎢⎢ 26 ⎥⎥⎟  ⎜      ⎢⎢  ⎥⎥⎟⎥\n",
       "⎢⎜       ⎢⎢ -2 ⎥⎥⎟  ⎜      ⎢⎢    ⎥⎥⎟  ⎜      ⎢⎢-2⎥⎥⎟⎥\n",
       "⎢⎜       ⎢⎢    ⎥⎥⎟  ⎜      ⎢⎢-17 ⎥⎥⎟  ⎜      ⎢⎢  ⎥⎥⎟⎥\n",
       "⎢⎝       ⎣⎣ 1  ⎦⎦⎠  ⎜      ⎢⎢────⎥⎥⎟  ⎝      ⎣⎣1 ⎦⎦⎠⎥\n",
       "⎢                   ⎜      ⎢⎢ 13 ⎥⎥⎟                ⎥\n",
       "⎢                   ⎜      ⎢⎢    ⎥⎥⎟                ⎥\n",
       "⎣                   ⎝      ⎣⎣ 1  ⎦⎦⎠                ⎦"
      ]
     },
     "execution_count": 14,
     "metadata": {},
     "output_type": "execute_result"
    }
   ],
   "source": [
    "m = sp.Matrix([[2, -5, -8], [-8, -6, -2], [4, 3, 1]])\n",
    "m.eigenvects()"
   ]
  },
  {
   "cell_type": "markdown",
   "metadata": {},
   "source": [
    "# Задача E"
   ]
  },
  {
   "cell_type": "markdown",
   "metadata": {},
   "source": [
    "При каких значениях параметра $a$ данная матрица имеет ранг 2?\n",
    "$$\n",
    "\\begin{pmatrix}\n",
    "    a - 6 & 1 & 1\\\\\n",
    "    -8 & a & 2\\\\\n",
    "    4 - 6a & a & a^2 + a - 4\n",
    "\\end{pmatrix}\n",
    "$$"
   ]
  },
  {
   "cell_type": "code",
   "execution_count": 15,
   "metadata": {},
   "outputs": [],
   "source": [
    "a = sp.var('a')\n",
    "m = sp.Matrix([[a - 6, 1, 1], [-8, a, 2], [4 - 6 * a, a, a**2 + a - 4]])"
   ]
  },
  {
   "cell_type": "code",
   "execution_count": 16,
   "metadata": {},
   "outputs": [
    {
     "data": {
      "image/png": "[encoded data removed]",
      "text/latex": [
       "$$a^{4} - 5 a^{3} + 2 a^{2} + 20 a - 24$$"
      ],
      "text/plain": [
       " 4      3      2            \n",
       "a  - 5⋅a  + 2⋅a  + 20⋅a - 24"
      ]
     },
     "execution_count": 16,
     "metadata": {},
     "output_type": "execute_result"
    }
   ],
   "source": [
    "m.det()"
   ]
  },
  {
   "cell_type": "code",
   "execution_count": 17,
   "metadata": {},
   "outputs": [
    {
     "data": {
      "image/png": "[encoded data removed]",
      "text/latex": [
       "$$\\left [ -2, \\quad 2, \\quad 3\\right ]$$"
      ],
      "text/plain": [
       "[-2, 2, 3]"
      ]
     },
     "execution_count": 17,
     "metadata": {},
     "output_type": "execute_result"
    }
   ],
   "source": [
    "sp.solve(m.det(), a)"
   ]
  },
  {
   "cell_type": "code",
   "execution_count": 18,
   "metadata": {},
   "outputs": [
    {
     "data": {
      "image/png": "[encoded data removed]",
      "text/latex": [
       "$$2$$"
      ],
      "text/plain": [
       "2"
      ]
     },
     "execution_count": 18,
     "metadata": {},
     "output_type": "execute_result"
    }
   ],
   "source": [
    "m.subs({'a':-2}).rank()"
   ]
  },
  {
   "cell_type": "code",
   "execution_count": 19,
   "metadata": {},
   "outputs": [
    {
     "data": {
      "image/png": "[encoded data removed]",
      "text/latex": [
       "$$1$$"
      ],
      "text/plain": [
       "1"
      ]
     },
     "execution_count": 19,
     "metadata": {},
     "output_type": "execute_result"
    }
   ],
   "source": [
    "m.subs({'a':2}).rank()"
   ]
  },
  {
   "cell_type": "code",
   "execution_count": 20,
   "metadata": {},
   "outputs": [
    {
     "data": {
      "image/png": "[encoded data removed]",
      "text/latex": [
       "$$2$$"
      ],
      "text/plain": [
       "2"
      ]
     },
     "execution_count": 20,
     "metadata": {},
     "output_type": "execute_result"
    }
   ],
   "source": [
    "m.subs({'a':3}).rank()"
   ]
  },
  {
   "cell_type": "markdown",
   "metadata": {},
   "source": [
    "# Еще"
   ]
  },
  {
   "cell_type": "markdown",
   "metadata": {},
   "source": [
    "Для матрицы $P$\n",
    "$$\n",
    "P = \\begin{pmatrix}\n",
    "    \\frac{2}{3} & \\frac{1}{3}\\\\\n",
    "    \\frac{1}{9} & \\frac{8}{9}\n",
    "\\end{pmatrix}\n",
    "$$\n",
    "найти\n",
    "$\n",
    "    \\lim\\limits_{n \\rightarrow \\infty} P^n\n",
    "$"
   ]
  },
  {
   "cell_type": "code",
   "execution_count": 21,
   "metadata": {},
   "outputs": [
    {
     "data": {
      "image/png": "[encoded data removed]",
      "text/latex": [
       "$$\\left[\\begin{matrix}\\frac{2}{3} & \\frac{1}{3}\\\\\\frac{1}{9} & \\frac{8}{9}\\end{matrix}\\right]$$"
      ],
      "text/plain": [
       "⎡2/3  1/3⎤\n",
       "⎢        ⎥\n",
       "⎣1/9  8/9⎦"
      ]
     },
     "execution_count": 21,
     "metadata": {},
     "output_type": "execute_result"
    }
   ],
   "source": [
    "one = sp.sympify(1)\n",
    "P = sp.Matrix([[2*one/3, one/3], [one/9, 8 * one / 9]])\n",
    "P"
   ]
  },
  {
   "cell_type": "code",
   "execution_count": 22,
   "metadata": {},
   "outputs": [
    {
     "data": {
      "image/png": "[encoded data removed]",
      "text/latex": [
       "$$\\left[\\begin{matrix}\\frac{13}{27} & \\frac{14}{27}\\\\\\frac{14}{81} & \\frac{67}{81}\\end{matrix}\\right]$$"
      ],
      "text/plain": [
       "⎡13  14⎤\n",
       "⎢──  ──⎥\n",
       "⎢27  27⎥\n",
       "⎢      ⎥\n",
       "⎢14  67⎥\n",
       "⎢──  ──⎥\n",
       "⎣81  81⎦"
      ]
     },
     "execution_count": 22,
     "metadata": {},
     "output_type": "execute_result"
    }
   ],
   "source": [
    "P**2"
   ]
  },
  {
   "cell_type": "code",
   "execution_count": 23,
   "metadata": {},
   "outputs": [
    {
     "data": {
      "image/png": "[encoded data removed]",
      "text/latex": [
       "$$\\left[\\begin{matrix}\\frac{92}{243} & \\frac{151}{243}\\\\\\frac{151}{729} & \\frac{578}{729}\\end{matrix}\\right]$$"
      ],
      "text/plain": [
       "⎡ 92  151⎤\n",
       "⎢───  ───⎥\n",
       "⎢243  243⎥\n",
       "⎢        ⎥\n",
       "⎢151  578⎥\n",
       "⎢───  ───⎥\n",
       "⎣729  729⎦"
      ]
     },
     "execution_count": 23,
     "metadata": {},
     "output_type": "execute_result"
    }
   ],
   "source": [
    "P**3"
   ]
  },
  {
   "cell_type": "code",
   "execution_count": 24,
   "metadata": {},
   "outputs": [
    {
     "data": {
      "image/png": "[encoded data removed]",
      "text/latex": [
       "$$\\left ( \\left[\\begin{matrix}-3 & 1\\\\1 & 1\\end{matrix}\\right], \\quad \\left[\\begin{matrix}\\frac{5}{9} & 0\\\\0 & 1\\end{matrix}\\right], \\quad \\left[\\begin{matrix}- \\frac{1}{4} & \\frac{1}{4}\\\\\\frac{1}{4} & \\frac{3}{4}\\end{matrix}\\right]\\right )$$"
      ],
      "text/plain": [
       "⎛⎡-3  1⎤, ⎡5/9  0⎤, ⎡-1/4  1/4⎤⎞\n",
       "⎜⎢     ⎥  ⎢      ⎥  ⎢         ⎥⎟\n",
       "⎝⎣1   1⎦  ⎣ 0   1⎦  ⎣1/4   3/4⎦⎠"
      ]
     },
     "execution_count": 24,
     "metadata": {},
     "output_type": "execute_result"
    }
   ],
   "source": [
    "D, L = P.diagonalize()\n",
    "D, L, D.inv()"
   ]
  },
  {
   "cell_type": "code",
   "execution_count": 25,
   "metadata": {},
   "outputs": [
    {
     "data": {
      "image/png": "[encoded data removed]",
      "text/latex": [
       "$$\\left[\\begin{matrix}\\frac{2}{3} & \\frac{1}{3}\\\\\\frac{1}{9} & \\frac{8}{9}\\end{matrix}\\right]$$"
      ],
      "text/plain": [
       "⎡2/3  1/3⎤\n",
       "⎢        ⎥\n",
       "⎣1/9  8/9⎦"
      ]
     },
     "execution_count": 25,
     "metadata": {},
     "output_type": "execute_result"
    }
   ],
   "source": [
    "D * L * D.inv()"
   ]
  },
  {
   "cell_type": "code",
   "execution_count": 26,
   "metadata": {
    "collapsed": true
   },
   "outputs": [],
   "source": [
    "n = sp.var('n')\n",
    "Ln = sp.diag((5*one/9)**n, one)"
   ]
  },
  {
   "cell_type": "code",
   "execution_count": 27,
   "metadata": {},
   "outputs": [
    {
     "data": {
      "image/png": "[encoded data removed]",
      "text/latex": [
       "$$\\left[\\begin{matrix}\\frac{3 \\frac{5}{9}^{n}}{4} + \\frac{1}{4} & - \\frac{3 \\frac{5}{9}^{n}}{4} + \\frac{3}{4}\\\\- \\frac{\\frac{5}{9}^{n}}{4} + \\frac{1}{4} & \\frac{\\frac{5}{9}^{n}}{4} + \\frac{3}{4}\\end{matrix}\\right]$$"
      ],
      "text/plain": [
       "⎡     n             n    ⎤\n",
       "⎢3⋅5/9    1    3⋅5/9    3⎥\n",
       "⎢────── + ─  - ────── + ─⎥\n",
       "⎢  4      4      4      4⎥\n",
       "⎢                        ⎥\n",
       "⎢     n           n      ⎥\n",
       "⎢  5/9    1    5/9    3  ⎥\n",
       "⎢- ──── + ─    ──── + ─  ⎥\n",
       "⎣   4     4     4     4  ⎦"
      ]
     },
     "execution_count": 27,
     "metadata": {},
     "output_type": "execute_result"
    }
   ],
   "source": [
    "Pn = D * Ln * D.inv()\n",
    "Pn"
   ]
  },
  {
   "cell_type": "code",
   "execution_count": 28,
   "metadata": {},
   "outputs": [
    {
     "data": {
      "image/png": "[encoded data removed]",
      "text/latex": [
       "$$\\left[\\begin{matrix}\\frac{1}{4} & \\frac{3}{4}\\\\\\frac{1}{4} & \\frac{3}{4}\\end{matrix}\\right]$$"
      ],
      "text/plain": [
       "⎡1/4  3/4⎤\n",
       "⎢        ⎥\n",
       "⎣1/4  3/4⎦"
      ]
     },
     "execution_count": 28,
     "metadata": {},
     "output_type": "execute_result"
    }
   ],
   "source": [
    "Pn.limit(n, sp.mpmath.inf)"
   ]
  }
 ],
 "metadata": {
  "kernelspec": {
   "display_name": "Python 3",
   "language": "python",
   "name": "python3"
  },
  "language_info": {
   "codemirror_mode": {
    "name": "ipython",
    "version": 3
   },
   "file_extension": ".py",
   "mimetype": "text/x-python",
   "name": "python",
   "nbconvert_exporter": "python",
   "pygments_lexer": "ipython3",
   "version": "3.6.0"
  }
 },
 "nbformat": 4,
 "nbformat_minor": 1
}
